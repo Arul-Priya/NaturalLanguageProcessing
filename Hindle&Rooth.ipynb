{
 "cells": [
  {
   "cell_type": "code",
   "execution_count": null,
   "id": "2cc22d70-43af-4fbb-b9f0-ebd9a081f3d3",
   "metadata": {},
   "outputs": [],
   "source": [
    "ex4\n",
    "Implement the Hindle and Rooth algorithm for solving the attachment ambiguity problem."
   ]
  },
  {
   "cell_type": "code",
   "execution_count": 3,
   "id": "90495f21-02c3-43b6-a7af-713a2b6cfb28",
   "metadata": {},
   "outputs": [
    {
     "name": "stderr",
     "output_type": "stream",
     "text": [
      "[nltk_data] Downloading package stopwords to\n",
      "[nltk_data]     C:\\Users\\adisa\\AppData\\Roaming\\nltk_data...\n",
      "[nltk_data]   Package stopwords is already up-to-date!\n",
      "[nltk_data] Downloading package punkt to\n",
      "[nltk_data]     C:\\Users\\adisa\\AppData\\Roaming\\nltk_data...\n",
      "[nltk_data]   Package punkt is already up-to-date!\n"
     ]
    },
    {
     "name": "stdin",
     "output_type": "stream",
     "text": [
      "Enter the Noun:  cat\n",
      "Enter the Verb:  went \n",
      "Enter the Preposition:  with\n"
     ]
    },
    {
     "name": "stdout",
     "output_type": "stream",
     "text": [
      "The Preposition is attached with Noun.\n"
     ]
    }
   ],
   "source": [
    "import math\n",
    "import nltk\n",
    "from nltk.tokenize import word_tokenize\n",
    "from nltk import bigrams\n",
    "import string\n",
    "from nltk.corpus import stopwords\n",
    "\n",
    "#with open('corpus.txt', 'r') as file:\n",
    " #   corpus = file.read()\n",
    "nltk.download('stopwords')\n",
    "nltk.download('punkt')\n",
    "stop_words = set(stopwords.words('english'))\n",
    "corpus = [\n",
    "    \"Saw the phone with me.\",\n",
    "    \"Went to the meeting yesterday\",\n",
    "    \"Told the man to wait.\",\n",
    "    \"Gave the book to her\",\n",
    "    \"Saw the cat with her.\"\n",
    "]\n",
    "\n",
    "tokens = []\n",
    "for sentence in corpus:\n",
    "    words = word_tokenize(sentence.lower())\n",
    "    tokens.extend([word for word in words if word not in stop_words and word not in string.punctuation])\n",
    "\n",
    "element_counts = {}\n",
    "for element in tokens:\n",
    "    element_counts[element] = element_counts.get(element, 0) + 1\n",
    "\n",
    "\n",
    "bi_grams = list(bigrams(tokens))\n",
    "\n",
    "bigram_counts = {}\n",
    "for bigram in bi_grams:\n",
    "    bigram_counts[bigram] = bigram_counts.get(bigram, 0) + 1\n",
    "\n",
    "\n",
    "noun = input(\"Enter the Noun: \")\n",
    "verb = input(\"Enter the Verb: \")\n",
    "prep = input(\"Enter the Preposition: \")\n",
    "\n",
    "n = element_counts.get(noun, 0)\n",
    "v = element_counts.get(verb, 0)\n",
    "p_n = bigram_counts.get((prep, noun), 0)\n",
    "p_v = bigram_counts.get((prep, verb), 0)\n",
    "\n",
    "def cal_prob(p_v, p_n, v, n):\n",
    "    prob_v = p_v / v if v > 0 else 0\n",
    "    prob_n = p_n / n if n > 0 else 0\n",
    "    return prob_v, prob_n\n",
    "\n",
    "prob_v, prob_n = cal_prob(p_v, p_n, v, n)\n",
    "\n",
    "def cal_lam(prob_v, prob_n):\n",
    "    if prob_n > 0 and prob_v * (1 - prob_n) > 0:\n",
    "        _lambda = math.log((prob_v * (1 - prob_n)) / prob_n, 2)\n",
    "    else:\n",
    "        _lambda = float('inf') if prob_v > 0 else float('-inf')\n",
    "    return _lambda\n",
    "\n",
    "_lambda = cal_lam(prob_v, prob_n)\n",
    "\n",
    "if _lambda > 0:\n",
    "    print(\"The Preposition is attached with Verb.\")\n",
    "elif _lambda < 0:\n",
    "    print(\"The Preposition is attached with Noun.\")\n",
    "else:\n",
    "    print(\"The Preposition attachment is cannot be determined.\")"
   ]
  },
  {
   "cell_type": "code",
   "execution_count": null,
   "id": "6ba8766a-8ca7-4d18-b877-a43b13c03f2a",
   "metadata": {},
   "outputs": [],
   "source": []
  }
 ],
 "metadata": {
  "kernelspec": {
   "display_name": "Python 3 (ipykernel)",
   "language": "python",
   "name": "python3"
  },
  "language_info": {
   "codemirror_mode": {
    "name": "ipython",
    "version": 3
   },
   "file_extension": ".py",
   "mimetype": "text/x-python",
   "name": "python",
   "nbconvert_exporter": "python",
   "pygments_lexer": "ipython3",
   "version": "3.12.4"
  }
 },
 "nbformat": 4,
 "nbformat_minor": 5
}
