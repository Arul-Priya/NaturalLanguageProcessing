{
 "cells": [
  {
   "cell_type": "code",
   "execution_count": 1,
   "id": "c6d102bd-60fe-4e17-8f81-bc39590ad2cd",
   "metadata": {},
   "outputs": [
    {
     "name": "stdout",
     "output_type": "stream",
     "text": [
      "                  S                    \n",
      "      ____________|____                 \n",
      "     |                 VP              \n",
      "     |        _________|___             \n",
      "     |       |             NP          \n",
      "     |       |     ________|____        \n",
      "     |       |    |             PP     \n",
      "     |       |    |         ____|___    \n",
      "     NP      V    NP       P        NP \n",
      "     |       |    |        |        |   \n",
      "astronomers saw stars     with     ears\n",
      "\n",
      "Probability of the tree: 0.0009071999999999999\n"
     ]
    }
   ],
   "source": [
    "import nltk\n",
    "from nltk.grammar import PCFG\n",
    "from nltk.parse.viterbi import ViterbiParser\n",
    "from nltk.tree import Tree\n",
    "#Define a probabilistic context-free grammar\n",
    "grammar = PCFG.fromstring(\"\"\"\n",
    "S -> NP VP [1.0]\n",
    "PP -> P NP [1.0]\n",
    "VP -> V NP [0.7] | VP PP [0.3]\n",
    "P -> 'with' [1.0]\n",
    "V -> 'saw' [1.0]\n",
    "NP -> NP PP [0.4] |'astronomers' [0.1] | 'ears' [0.18] | 'saw' [0.04] | 'stars' [0.18] | 'telescopes' [0.1]\n",
    "\"\"\")\n",
    "parser = ViterbiParser(grammar) #Create a Viterbi parser\n",
    "\n",
    "sentence = \"astronomers saw stars with ears\"#Define the input sentence\n",
    "\n",
    "tokens = sentence.split()#Tokenize the sentence\n",
    "\n",
    "try:\n",
    "    best_tree = None\n",
    "    best_prob = 0\n",
    "    n=0\n",
    "    for tree in parser.parse(tokens):\n",
    "        tree.pretty_print()\n",
    "        n+=1\n",
    "        prob = tree.prob()  # Get the probability of the tree\n",
    "        if prob > best_prob:  # If this tree has a higher probability\n",
    "            best_tree = tree\n",
    "            best_prob = prob\n",
    "        print(f\"Probability of the tree: {prob}\")\n",
    "except ValueError:\n",
    "    print(\"No parse tree found for the sentence.\")\n",
    "if (n>1):\n",
    "    print(f\"\\n\\nBest Tree with probability of { best_prob}\")\n",
    "    best_tree.pretty_print()\n"
   ]
  },
  {
   "cell_type": "code",
   "execution_count": null,
   "id": "194dc24a-9448-42f5-9b81-b891a128140d",
   "metadata": {},
   "outputs": [],
   "source": []
  }
 ],
 "metadata": {
  "kernelspec": {
   "display_name": "Python 3 (ipykernel)",
   "language": "python",
   "name": "python3"
  },
  "language_info": {
   "codemirror_mode": {
    "name": "ipython",
    "version": 3
   },
   "file_extension": ".py",
   "mimetype": "text/x-python",
   "name": "python",
   "nbconvert_exporter": "python",
   "pygments_lexer": "ipython3",
   "version": "3.11.7"
  }
 },
 "nbformat": 4,
 "nbformat_minor": 5
}
