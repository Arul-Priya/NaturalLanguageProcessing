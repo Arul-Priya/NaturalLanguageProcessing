{
 "cells": [
  {
   "cell_type": "code",
   "execution_count": null,
   "id": "2cc22d70-43af-4fbb-b9f0-ebd9a081f3d3",
   "metadata": {},
   "outputs": [],
   "source": [
    "ex6:\n",
    "Implement Viterbi algorithm to find the probability of a word sequence, and the best tag\n",
    "sequence using Hidden Markov Model."
   ]
  },
  {
   "cell_type": "code",
   "execution_count": 7,
   "id": "90495f21-02c3-43b6-a7af-713a2b6cfb28",
   "metadata": {},
   "outputs": [
    {
     "name": "stdout",
     "output_type": "stream",
     "text": [
      "Probability of best sequence: 0.010499999999999999\n",
      "Best sequence of states: s1 s2 s2\n"
     ]
    },
    {
     "name": "stderr",
     "output_type": "stream",
     "text": [
      "[nltk_data] Downloading package stopwords to\n",
      "[nltk_data]     C:\\Users\\adisa\\AppData\\Roaming\\nltk_data...\n",
      "[nltk_data]   Package stopwords is already up-to-date!\n",
      "[nltk_data] Downloading package punkt to\n",
      "[nltk_data]     C:\\Users\\adisa\\AppData\\Roaming\\nltk_data...\n",
      "[nltk_data]   Package punkt is already up-to-date!\n",
      "[nltk_data] Downloading package averaged_perceptron_tagger to\n",
      "[nltk_data]     C:\\Users\\adisa\\AppData\\Roaming\\nltk_data...\n",
      "[nltk_data]   Package averaged_perceptron_tagger is already up-to-\n",
      "[nltk_data]       date!\n"
     ]
    }
   ],
   "source": [
    "import nltk\n",
    "from nltk.corpus import stopwords\n",
    "from nltk import pos_tag, word_tokenize\n",
    "import math\n",
    "\n",
    "nltk.download('stopwords')\n",
    "nltk.download('punkt')\n",
    "nltk.download('averaged_perceptron_tagger')\n",
    "\n",
    "def viterbi(pi, transition, emission, words):\n",
    "    alpha = [(pi, [[] for _ in pi])]  \n",
    "\n",
    "    for t in range(len(words)):\n",
    "        temp = []\n",
    "        backtrace = []\n",
    "        word_index = words[t] - 1  \n",
    "\n",
    "        for j in range(len(transition[0])):  \n",
    "            probs = []\n",
    "            for i in range(len(transition)):  \n",
    "                calc = transition[i][j] * emission[i][word_index] * alpha[t][0][i]\n",
    "                probs.append(calc)\n",
    "            max_val = max(probs)\n",
    "            index = probs.index(max_val)\n",
    "            temp.append(max_val)\n",
    "            backtrace.append(alpha[t][1][index] + [index])\n",
    "\n",
    "        alpha.append((temp, backtrace))\n",
    "\n",
    "    final_probs = alpha[-1][0]\n",
    "    final_state = alpha[-1][1][final_probs.index(max(final_probs))]\n",
    "    return max(final_probs), final_state\n",
    "\n",
    "# Define inputs\n",
    "pi = [1, 0]  \n",
    "transition = [[0.1, 0.2], [0.5, 0.5]]  \n",
    "states = [\"s1\", \"s2\"]\n",
    "observations = [\"v1\", \"v2\", \"v3\"]  \n",
    "emission = [[0.3, 0.7, 0.5], [0.6, 0.7, 0.2]]  \n",
    "words = [3, 2, 1]  \n",
    "\n",
    "# Run Viterbi\n",
    "prob, seq = viterbi(pi, transition, emission, words)\n",
    "\n",
    "# Output\n",
    "print(\"Probability of best sequence:\", prob)\n",
    "print(\"Best sequence of states:\", ' '.join([states[i] for i in seq]))\n"
   ]
  },
  {
   "cell_type": "code",
   "execution_count": null,
   "id": "6ba8766a-8ca7-4d18-b877-a43b13c03f2a",
   "metadata": {},
   "outputs": [],
   "source": []
  }
 ],
 "metadata": {
  "kernelspec": {
   "display_name": "Python 3 (ipykernel)",
   "language": "python",
   "name": "python3"
  },
  "language_info": {
   "codemirror_mode": {
    "name": "ipython",
    "version": 3
   },
   "file_extension": ".py",
   "mimetype": "text/x-python",
   "name": "python",
   "nbconvert_exporter": "python",
   "pygments_lexer": "ipython3",
   "version": "3.12.4"
  }
 },
 "nbformat": 4,
 "nbformat_minor": 5
}
