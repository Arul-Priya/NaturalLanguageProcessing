{
 "cells": [
  {
   "cell_type": "code",
   "execution_count": null,
   "id": "2cc22d70-43af-4fbb-b9f0-ebd9a081f3d3",
   "metadata": {},
   "outputs": [],
   "source": [
    "ex5:\n",
    "Implement forward and backward procedures using Hidden Markov Model to find the\n",
    "probability of a word sequence given a hidden Markov model."
   ]
  },
  {
   "cell_type": "code",
   "execution_count": 5,
   "id": "90495f21-02c3-43b6-a7af-713a2b6cfb28",
   "metadata": {},
   "outputs": [
    {
     "name": "stdout",
     "output_type": "stream",
     "text": [
      "final probability for given words of fpa :  0.0315\n",
      "final probability for given words of bpa :  0.0315\n"
     ]
    },
    {
     "name": "stderr",
     "output_type": "stream",
     "text": [
      "[nltk_data] Downloading package stopwords to\n",
      "[nltk_data]     C:\\Users\\adisa\\AppData\\Roaming\\nltk_data...\n",
      "[nltk_data]   Package stopwords is already up-to-date!\n",
      "[nltk_data] Downloading package punkt to\n",
      "[nltk_data]     C:\\Users\\adisa\\AppData\\Roaming\\nltk_data...\n",
      "[nltk_data]   Package punkt is already up-to-date!\n",
      "[nltk_data] Downloading package averaged_perceptron_tagger to\n",
      "[nltk_data]     C:\\Users\\adisa\\AppData\\Roaming\\nltk_data...\n",
      "[nltk_data]   Package averaged_perceptron_tagger is already up-to-\n",
      "[nltk_data]       date!\n"
     ]
    }
   ],
   "source": [
    "import nltk\n",
    "from nltk.corpus import stopwords\n",
    "from nltk import pos_tag,word_tokenize\n",
    "import pandas as pd\n",
    "import math\n",
    "nltk.download('stopwords')\n",
    "nltk.download('punkt')\n",
    "nltk.download('averaged_perceptron_tagger')\n",
    "\n",
    "def fpa(pi,state,emission,words):\n",
    "    alpha=[pi]\n",
    "    for t in range(len(words)):\n",
    "        temp=[]\n",
    "        ok=words[t]-1\n",
    "        for j in range(len(state)):\n",
    "            val=0\n",
    "            for i in range(len(state)):\n",
    "                val+=state[i][j]*emission[i][ok]*alpha[t][i]\n",
    "            temp.append(val)\n",
    "        alpha.append(temp)\n",
    "    return sum(alpha[-1])\n",
    "pi=[1,0]\n",
    "words=[3,2,1]\n",
    "emission=[[0.6,0.1,0.3],[0.1,0.7,0.2]]\n",
    "state=[[0.7,0.3],[0.5,0.5]]\n",
    "\n",
    "\n",
    "\n",
    "\n",
    "def bpa(pi,state,emission,words):\n",
    "    beta={}\n",
    "    for i in range(len(state)):\n",
    "        beta[i]={len(words)+1:1}\n",
    "    for t in reversed(range(len(words))):\n",
    "        ok=words[t]-1\n",
    "        for i in range(len(state)):\n",
    "            val=0\n",
    "            for j in range(len(state)):\n",
    "                val+=state[i][j]*emission[i][ok]*beta[j][t+2]\n",
    "            beta[i][t+1]=val\n",
    "    fsum=0\n",
    "    for i in range(len(state)):\n",
    "        fsum+=pi[i]*beta[i][1]\n",
    "    return fsum\n",
    "ans1 = fpa(pi,state,emission,words)\n",
    "ans2 = bpa(pi, state, emission, words)\n",
    "print(\"final probability for given words of fpa : \",ans1)\n",
    "print(\"final probability for given words of bpa : \",ans2)\n"
   ]
  },
  {
   "cell_type": "code",
   "execution_count": null,
   "id": "6ba8766a-8ca7-4d18-b877-a43b13c03f2a",
   "metadata": {},
   "outputs": [],
   "source": []
  }
 ],
 "metadata": {
  "kernelspec": {
   "display_name": "Python 3 (ipykernel)",
   "language": "python",
   "name": "python3"
  },
  "language_info": {
   "codemirror_mode": {
    "name": "ipython",
    "version": 3
   },
   "file_extension": ".py",
   "mimetype": "text/x-python",
   "name": "python",
   "nbconvert_exporter": "python",
   "pygments_lexer": "ipython3",
   "version": "3.12.4"
  }
 },
 "nbformat": 4,
 "nbformat_minor": 5
}
