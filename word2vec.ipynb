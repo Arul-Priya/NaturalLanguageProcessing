{
 "cells": [
  {
   "cell_type": "code",
   "execution_count": null,
   "id": "36661ca4-3f93-4bb5-bb26-adee0ab38006",
   "metadata": {},
   "outputs": [],
   "source": [
    "ex9:\n",
    "Implement word2vec model to explore the semantic similarity between the words."
   ]
  },
  {
   "cell_type": "code",
   "execution_count": 3,
   "id": "4cb09872-56bc-4a79-9e81-d817a1308c9b",
   "metadata": {},
   "outputs": [
    {
     "name": "stdout",
     "output_type": "stream",
     "text": [
      "Sentence 1: ['i', 'love', 'programming']\n",
      "Sentence 2: ['python', 'is', 'great']\n",
      "Sentence 3: ['i', 'enjoy', 'machine', 'learning']\n",
      "Sentence 4: ['tensorflow', 'is', 'a', 'powerful', 'tool']\n",
      "Sentence 5: ['ai', 'is', 'the', 'future']\n",
      "\n",
      "First 6 dimensions of 'python' vector:\n",
      "[-0.00950012  0.00956222 -0.00777076 -0.00264551 -0.00490641 -0.0049667 ]\n",
      "\n",
      "Top 5 most similar words to 'python':\n"
     ]
    },
    {
     "data": {
      "text/plain": [
       "[('ai', 0.2529047429561615),\n",
       " ('i', 0.13725273311138153),\n",
       " ('tool', 0.044107336550951004),\n",
       " ('programming', 0.027008363977074623),\n",
       " ('powerful', 0.012811626307666302)]"
      ]
     },
     "execution_count": 3,
     "metadata": {},
     "output_type": "execute_result"
    }
   ],
   "source": [
    "from gensim.models import Word2Vec\n",
    "import nltk\n",
    "from nltk.tokenize import word_tokenize\n",
    "\n",
    "# Define a list of sentences\n",
    "sentences = ['I love programming', \n",
    "             'Python is great', \n",
    "             'I enjoy machine learning',\n",
    "             'TensorFlow is a powerful tool', \n",
    "             'AI is the future']\n",
    "# Tokenize each sentence into words, converting to lowercase\n",
    "tokenized_sentences = [word_tokenize(sentence.lower()) for sentence in sentences]\n",
    "\n",
    "# Print the tokenized sentences\n",
    "tokenized_sentences\n",
    "for i, tokens in enumerate(tokenized_sentences):\n",
    "    print(f\"Sentence {i+1}: {tokens}\")\n",
    "    \n",
    " # Train a Word2Vec model   \n",
    "model = Word2Vec(\n",
    "    sentences=tokenized_sentences, \n",
    "    vector_size=100, \n",
    "    window=5, \n",
    "    min_count=1, \n",
    "    )\n",
    "\n",
    "# Get the vector representation of the word 'python' and print its first 6 dimensions\n",
    "python_vector = model.wv['python'][:6]\n",
    "print(\"\\nFirst 6 dimensions of 'python' vector:\")\n",
    "print(python_vector)\n",
    "\n",
    "# Find and print the top 5 most similar words to 'python'\n",
    "print(\"\\nTop 5 most similar words to 'python':\")\n",
    "similar_words = model.wv.most_similar(\"python\", topn=5)\n",
    "similar_words\n"
   ]
  },
  {
   "cell_type": "code",
   "execution_count": null,
   "id": "19a420c0-e665-4d19-88f2-a586979d71de",
   "metadata": {},
   "outputs": [],
   "source": []
  }
 ],
 "metadata": {
  "kernelspec": {
   "display_name": "Python 3 (ipykernel)",
   "language": "python",
   "name": "python3"
  },
  "language_info": {
   "codemirror_mode": {
    "name": "ipython",
    "version": 3
   },
   "file_extension": ".py",
   "mimetype": "text/x-python",
   "name": "python",
   "nbconvert_exporter": "python",
   "pygments_lexer": "ipython3",
   "version": "3.12.4"
  }
 },
 "nbformat": 4,
 "nbformat_minor": 5
}
